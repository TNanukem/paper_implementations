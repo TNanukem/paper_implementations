{
 "cells": [
  {
   "cell_type": "markdown",
   "id": "e56246c2-124f-4303-8f0b-e6214cdaeeef",
   "metadata": {},
   "source": [
    "# Labelless Concept Drift Detection and Explanation"
   ]
  },
  {
   "cell_type": "code",
   "execution_count": 5,
   "id": "02e883a0-56ea-41bd-bb29-47f500bb2f17",
   "metadata": {},
   "outputs": [
    {
     "ename": "ModuleNotFoundError",
     "evalue": "No module named 'shap'",
     "output_type": "error",
     "traceback": [
      "\u001b[1;31m---------------------------------------------------------------------------\u001b[0m",
      "\u001b[1;31mModuleNotFoundError\u001b[0m                       Traceback (most recent call last)",
      "Cell \u001b[1;32mIn[5], line 4\u001b[0m\n\u001b[0;32m      1\u001b[0m \u001b[38;5;28;01mimport\u001b[39;00m \u001b[38;5;21;01mnumpy\u001b[39;00m \u001b[38;5;28;01mas\u001b[39;00m \u001b[38;5;21;01mnp\u001b[39;00m\n\u001b[0;32m      2\u001b[0m \u001b[38;5;28;01mimport\u001b[39;00m \u001b[38;5;21;01mpandas\u001b[39;00m \u001b[38;5;28;01mas\u001b[39;00m \u001b[38;5;21;01mpd\u001b[39;00m\n\u001b[1;32m----> 4\u001b[0m \u001b[38;5;28;01mimport\u001b[39;00m \u001b[38;5;21;01mshap\u001b[39;00m\n\u001b[0;32m      6\u001b[0m \u001b[38;5;28;01mfrom\u001b[39;00m \u001b[38;5;21;01msklearn\u001b[39;00m\u001b[38;5;21;01m.\u001b[39;00m\u001b[38;5;21;01mdatasets\u001b[39;00m \u001b[38;5;28;01mimport\u001b[39;00m load_iris\n",
      "\u001b[1;31mModuleNotFoundError\u001b[0m: No module named 'shap'"
     ]
    }
   ],
   "source": [
    "import numpy as np\n",
    "import pandas as pd\n",
    "\n",
    "import shap\n",
    "\n",
    "from sklearn.datasets import load_iris"
   ]
  },
  {
   "cell_type": "markdown",
   "id": "b4f8a312-b854-49d6-9998-e46fb93a661b",
   "metadata": {},
   "source": [
    "## Data Processing"
   ]
  },
  {
   "cell_type": "markdown",
   "id": "05894427-daf9-4f2e-8036-a61fc69b1d62",
   "metadata": {},
   "source": [
    "### Splitting the dataset"
   ]
  },
  {
   "cell_type": "markdown",
   "id": "0419df70-1dc7-4278-b6db-91fb2a218bab",
   "metadata": {},
   "source": [
    "### Introducing drift in the dataset"
   ]
  },
  {
   "cell_type": "markdown",
   "id": "d7d7a01e-0665-4efb-9246-9d46bdebe0ac",
   "metadata": {},
   "source": [
    "### Binarizing the dataset"
   ]
  },
  {
   "cell_type": "code",
   "execution_count": null,
   "id": "d959a943-106e-4314-a0f4-7260690988e4",
   "metadata": {},
   "outputs": [],
   "source": [
    "N = len(X)"
   ]
  },
  {
   "cell_type": "code",
   "execution_count": null,
   "id": "f217e1db-6496-458b-b07b-9302120a3f71",
   "metadata": {},
   "outputs": [],
   "source": [
    "for feature in X.columns:\n",
    "    hist = np.histogram(X[feature], bins=np.sqrt(N))\n",
    "    X[feature] = apply_bin(X, feature, hist)"
   ]
  },
  {
   "cell_type": "markdown",
   "id": "d51b0fd8-c24f-4c5c-98a2-8e3516bfe5ef",
   "metadata": {},
   "source": [
    "## Model"
   ]
  },
  {
   "cell_type": "markdown",
   "id": "657eebc8-ae0e-4b16-a3f7-611c4f948bbf",
   "metadata": {},
   "source": [
    "### Training the Model"
   ]
  },
  {
   "cell_type": "markdown",
   "id": "f5d4134a-dcb4-4c99-9018-df193a38048d",
   "metadata": {},
   "source": [
    "### Applying the Shap Values"
   ]
  },
  {
   "cell_type": "markdown",
   "id": "bb58cc0f-335e-42a1-97fd-e0ce0ce5c67d",
   "metadata": {},
   "source": [
    "### Predicting the Shap Values"
   ]
  },
  {
   "cell_type": "markdown",
   "id": "5d643725-8ff7-4236-87b5-101e1dfc3d76",
   "metadata": {},
   "source": [
    "### Adjusting the Shap Values"
   ]
  },
  {
   "cell_type": "code",
   "execution_count": null,
   "id": "0be6df45-89ea-4b17-b4d4-73f8547061eb",
   "metadata": {},
   "outputs": [],
   "source": []
  }
 ],
 "metadata": {
  "kernelspec": {
   "display_name": "Python 3 (ipykernel)",
   "language": "python",
   "name": "python3"
  },
  "language_info": {
   "codemirror_mode": {
    "name": "ipython",
    "version": 3
   },
   "file_extension": ".py",
   "mimetype": "text/x-python",
   "name": "python",
   "nbconvert_exporter": "python",
   "pygments_lexer": "ipython3",
   "version": "3.9.16"
  }
 },
 "nbformat": 4,
 "nbformat_minor": 5
}

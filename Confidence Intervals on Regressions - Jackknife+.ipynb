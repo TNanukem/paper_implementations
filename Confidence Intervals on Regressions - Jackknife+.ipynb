{
 "cells": [
  {
   "cell_type": "markdown",
   "id": "d6ae86e6-d78c-4a86-b38e-3a3d6a39420f",
   "metadata": {},
   "source": [
    "# Jackknife+ Confidence Intervals on Regressions\n",
    "\n",
    "On this notebook I will implement the Jackknife+ method to finding confidence intervals on regression predictions. I will also implement other methods from the paper and try to reproduce the results obtained. The idea of having confidence intervals on our models predictions is to best assure the uncertainty on it so we know how much we can trust and act on the predictions."
   ]
  },
  {
   "cell_type": "markdown",
   "id": "366f43f7-5967-416e-a33e-44289db21688",
   "metadata": {},
   "source": [
    "## Theoretical Introduction\n",
    "\n",
    "Four main methods are discussed on the paper. One keeps trying to improve over the other: the naive is to optimistic, the jackknife does not work well on degenerated cases and the jackknife+ can be very slow to compute. Of course, the improvement of the confidence interval will always come with a performance drawback.\n",
    "\n",
    "### Setting Terminology\n",
    "Let $\\hat{q}^+_{n, \\alpha}(v_i)$ be the $(1 - \\alpha)$ quantile of the distribution $v$ and $\\hat{q}^-_{n, \\alpha}(v_i)$ be the $\\alpha$ quantile. Let also $R_i^{LOO} = |Y_i - \\hat{\\mu}_{-i}(X_i)|$ be the i-th leave one-out residual.\n",
    "\n",
    "### Naive\n",
    "\n",
    "On this method, one trains a model on the entire training set and then calculates the residuals obtained from the training set. Then, for every new prediction point, the CI of that new point is given by the quantile of the distribution of residuals from the training set. So:\n",
    "\n",
    "$$\\hat{\\mu}(x_{i+1}) \\pm (1 - \\alpha) \\text{ quantile of} R(\\hat{\\mu})$$\n",
    "\n",
    "We can rewrite it as follows:\n",
    "\n",
    "$$\\hat{C}^{\\text{naive}}_{n, \\alpha} (X_{n+1}) = \\hat{\\mu}(x_{i+1}) \\pm \\hat{q}^+_{n, \\alpha}(|Y_i - \\hat{\\mu}(X_i)|)$$\n",
    "\n",
    "The problem with this methodology is that if the model overfits, the residuals will become close to zero and therefore the confidence interval will go to zero. Even if the residuals are not zero, this method still very optimistic, as we know that the error on the training set will (almost) always be smaller than the one on the test set.\n",
    "\n",
    "### Jackknife\n",
    "\n",
    "For the jackknife method, we compute $n$ models using the leave-one-out method. For each one, we compute the residual of the leaved out sample and then we aggregate the residuals into a distribution. After that, we train a regression on the entire training set and use it to predict the center point of the new test point. Then, the CI is given by the quantile of the distribution of the residuals from the leave-one-out:\n",
    "\n",
    "$$\\hat{\\mu}(x_{i+1}) \\pm (1 - \\alpha) \\text{ quantile of} R(\\hat{\\mu}_{-1})$$\n",
    "\n",
    "We can then write:\n",
    "\n",
    "$$\\hat{C}^{\\text{jackknife}}_{n, \\alpha} (X_{n+1}) = \\hat{\\mu}(x_{i+1}) \\pm \\hat{q}^+_{n, \\alpha}(R_i^{LOO})$$\n",
    "\n",
    "This aims to solve the problem from the previous method since now we are looking at a distribution of residuals from a test sample. Notice, however, that this requires fitting $n$ models, one for each sample of our dataset, which cannot be feasible.\n",
    "\n",
    "When the regression becomes unstable, such as on the scenario where the number of dimensions is close to the number of samples, this method loses its coverage. However, this seems to be a really rare corner case.\n",
    "\n",
    "### Jackknife+\n",
    "\n",
    "The jackknife+ tries to solve the instability of the jackknife on that corner case by using every regressor fit on the leave-one-out instead of a regressor fitted on the entire training set. The idea is that, when using the Jackknife method, the $\\hat{\\mu}$ regressor has always seem one more training point than the the models on the residuals, which makes it not directly comparable to the residuals. Therefore, one can write the Jackknife+ interval as follows:\n",
    "\n",
    "$$\\hat{C}^{\\text{jackknife+}}_{n, \\alpha} (X_{n+1}) = \\hat{\\mu_{-i}}(x_{i+1}) \\pm \\hat{q}^+_{n, \\alpha}(R_i^{LOO})$$\n",
    "\n",
    "The basic idea here is that, when defining the upper and lower bounds for a given instance, we use the median predict of all the models on that instance to find the prediction point, and then we use the residuals quantiles to define the interval as usual.\n",
    "\n",
    "### CV+\n",
    "\n",
    "The CV+ is the application of the Jackknife+ method but using a K-Fold Cross Validation instead of a leave-one-out methodology. This method is best suited when $n$ is too large making the use of a leave one out approach unfeasible."
   ]
  },
  {
   "cell_type": "markdown",
   "id": "bd11b96c-8cc3-48fc-b807-d4d765bae324",
   "metadata": {},
   "source": [
    "## Implementation"
   ]
  },
  {
   "cell_type": "code",
   "execution_count": 1,
   "id": "e87cf12c-6f0f-4407-995e-43fd18585b92",
   "metadata": {},
   "outputs": [],
   "source": [
    "import numpy as np\n",
    "import pandas as pd\n",
    "import matplotlib.pyplot as plt\n",
    "\n",
    "from sklearn.datasets import load_boston\n",
    "from mapie.regression import MapieRegressor\n",
    "from sklearn.ensemble import RandomForestRegressor\n",
    "from sklearn.model_selection import train_test_split, KFold"
   ]
  },
  {
   "cell_type": "code",
   "execution_count": 2,
   "id": "8d729ff6-92e5-4611-8e21-7d0ead1e527b",
   "metadata": {},
   "outputs": [],
   "source": [
    "X, y = load_boston(return_X_y=True)"
   ]
  },
  {
   "cell_type": "code",
   "execution_count": 3,
   "id": "efa105e6-9f65-45c9-90f6-ad043c2f6024",
   "metadata": {},
   "outputs": [],
   "source": [
    "alpha = 0.95"
   ]
  },
  {
   "cell_type": "code",
   "execution_count": 4,
   "id": "ddf215d4-bb3e-42c6-9315-8a7b13613382",
   "metadata": {},
   "outputs": [],
   "source": [
    "X_train, X_test, y_train, y_test = train_test_split(X, y, random_state=42, test_size=0.1)"
   ]
  },
  {
   "cell_type": "code",
   "execution_count": 5,
   "id": "698a9ad7-a30d-411f-9e56-14d6ee5c9766",
   "metadata": {},
   "outputs": [],
   "source": [
    "def generate_results_dataset(predictions, ci):\n",
    "    df = pd.DataFrame()\n",
    "    df['prediction'] = preds\n",
    "    if ci >= 0:\n",
    "        df['upper'] = preds + ci\n",
    "        df['lower'] = preds - ci\n",
    "    else:\n",
    "        df['upper'] = preds - ci\n",
    "        df['lower'] = preds + ci\n",
    "        \n",
    "    return df"
   ]
  },
  {
   "cell_type": "code",
   "execution_count": 6,
   "id": "25eb3889-e2b1-431d-be4e-033274703261",
   "metadata": {},
   "outputs": [],
   "source": [
    "def generate_plot(y_test, preds, ci, positive=True):\n",
    "    \n",
    "    if ci < 0:\n",
    "        ci_pack = np.vstack([preds + ci, preds - ci])\n",
    "    else:\n",
    "        ci_pack = np.vstack([preds + ci, preds - ci])\n",
    "    \n",
    "    plt.figure(figsize=(12,9))\n",
    "    plt.errorbar([i for i in range(len(preds))], preds, ci_pack, fmt='o', color='black', ecolor='lightgray')\n",
    "    plt.plot([i for i in range(len(y_test))], y_test, 'o', c='r')\n",
    "    plt.legend(['True Value', 'Prediction', 'Confidence Interval'])\n",
    "    plt.show()"
   ]
  },
  {
   "cell_type": "code",
   "execution_count": 7,
   "id": "ff655941-72a4-4b08-9746-093e7ac5b5f7",
   "metadata": {},
   "outputs": [],
   "source": [
    "def generate_plot_plus(y_test, preds, bottom, upper,):\n",
    "    \n",
    "    ci_pack = np.vstack([bottom, upper])\n",
    "    \n",
    "    plt.figure(figsize=(12,9))\n",
    "    plt.errorbar([i for i in range(len(preds))], preds, ci_pack, fmt='o', color='black', ecolor='lightgray')\n",
    "    plt.plot([i for i in range(len(y_test))], y_test, 'o', c='r')\n",
    "    plt.legend(['True Value', 'Prediction', 'Confidence Interval'])\n",
    "    plt.show()"
   ]
  },
  {
   "cell_type": "markdown",
   "id": "6e6dea7a-b158-4c9d-9199-611e51759367",
   "metadata": {},
   "source": [
    "### Naive Approach"
   ]
  },
  {
   "cell_type": "code",
   "execution_count": 8,
   "id": "d41e9f99-9522-41d9-9bbe-85e9bcc403a9",
   "metadata": {},
   "outputs": [],
   "source": [
    "rf = RandomForestRegressor(random_state=42)\n",
    "rf.fit(X_train, y_train)\n",
    "\n",
    "residuals = y_train - rf.predict(X_train)"
   ]
  },
  {
   "cell_type": "code",
   "execution_count": 9,
   "id": "12d4ad68-20ce-432f-bbd1-3807a00190e1",
   "metadata": {},
   "outputs": [],
   "source": [
    "ci = np.quantile(residuals, 1 - alpha)\n",
    "preds = rf.predict(X_test)"
   ]
  },
  {
   "cell_type": "code",
   "execution_count": 10,
   "id": "25725bbb-f07c-4730-8c4d-558f4f368456",
   "metadata": {},
   "outputs": [
    {
     "data": {
      "text/html": [
       "<div>\n",
       "<style scoped>\n",
       "    .dataframe tbody tr th:only-of-type {\n",
       "        vertical-align: middle;\n",
       "    }\n",
       "\n",
       "    .dataframe tbody tr th {\n",
       "        vertical-align: top;\n",
       "    }\n",
       "\n",
       "    .dataframe thead th {\n",
       "        text-align: right;\n",
       "    }\n",
       "</style>\n",
       "<table border=\"1\" class=\"dataframe\">\n",
       "  <thead>\n",
       "    <tr style=\"text-align: right;\">\n",
       "      <th></th>\n",
       "      <th>prediction</th>\n",
       "      <th>upper</th>\n",
       "      <th>lower</th>\n",
       "    </tr>\n",
       "  </thead>\n",
       "  <tbody>\n",
       "    <tr>\n",
       "      <th>0</th>\n",
       "      <td>22.635</td>\n",
       "      <td>24.4612</td>\n",
       "      <td>20.8088</td>\n",
       "    </tr>\n",
       "    <tr>\n",
       "      <th>1</th>\n",
       "      <td>30.516</td>\n",
       "      <td>32.3422</td>\n",
       "      <td>28.6898</td>\n",
       "    </tr>\n",
       "    <tr>\n",
       "      <th>2</th>\n",
       "      <td>16.014</td>\n",
       "      <td>17.8402</td>\n",
       "      <td>14.1878</td>\n",
       "    </tr>\n",
       "    <tr>\n",
       "      <th>3</th>\n",
       "      <td>22.718</td>\n",
       "      <td>24.5442</td>\n",
       "      <td>20.8918</td>\n",
       "    </tr>\n",
       "    <tr>\n",
       "      <th>4</th>\n",
       "      <td>16.335</td>\n",
       "      <td>18.1612</td>\n",
       "      <td>14.5088</td>\n",
       "    </tr>\n",
       "  </tbody>\n",
       "</table>\n",
       "</div>"
      ],
      "text/plain": [
       "   prediction    upper    lower\n",
       "0      22.635  24.4612  20.8088\n",
       "1      30.516  32.3422  28.6898\n",
       "2      16.014  17.8402  14.1878\n",
       "3      22.718  24.5442  20.8918\n",
       "4      16.335  18.1612  14.5088"
      ]
     },
     "execution_count": 10,
     "metadata": {},
     "output_type": "execute_result"
    }
   ],
   "source": [
    "df = generate_results_dataset(preds, ci)\n",
    "df.head()"
   ]
  },
  {
   "cell_type": "code",
   "execution_count": 11,
   "id": "52ad70a2-3c5d-435c-bf60-9c842b50b4d1",
   "metadata": {},
   "outputs": [
    {
     "data": {
      "image/png": "[encoded data removed]",
      "text/plain": [
       "<Figure size 864x648 with 1 Axes>"
      ]
     },
     "metadata": {
      "needs_background": "light"
     },
     "output_type": "display_data"
    }
   ],
   "source": [
    "generate_plot(y_test, preds, ci, positive=ci>0)"
   ]
  },
  {
   "cell_type": "markdown",
   "id": "85a69efd-ba77-4e67-92ef-120c00b55651",
   "metadata": {},
   "source": [
    "### Jackknife"
   ]
  },
  {
   "cell_type": "code",
   "execution_count": 12,
   "id": "68d89346-6966-4fec-ba7e-db1ec2ee925f",
   "metadata": {},
   "outputs": [],
   "source": [
    "kf = KFold(n_splits=len(y_train)-1, shuffle=True, random_state=42)\n",
    "res = []\n",
    "for train_index, test_index in kf.split(X_train):\n",
    "    X_train_, X_test_ = X_train[train_index], X_train[test_index]\n",
    "    y_train_, y_test_ = y_train[train_index], y_train[test_index]\n",
    "    \n",
    "    rf.fit(X_train_, y_train_)\n",
    "    res.extend(list(y_test_ - rf.predict(X_test_)))"
   ]
  },
  {
   "cell_type": "code",
   "execution_count": 13,
   "id": "c214d139-2f2c-465f-8c96-4dbdd882fe48",
   "metadata": {},
   "outputs": [],
   "source": [
    "rf.fit(X_train, y_train)\n",
    "ci = np.quantile(res, 1 - alpha)"
   ]
  },
  {
   "cell_type": "code",
   "execution_count": 14,
   "id": "251d1f8f-f94a-47ec-afb8-d1b8573d06d4",
   "metadata": {},
   "outputs": [],
   "source": [
    "preds = rf.predict(X_test)\n",
    "df = generate_results_dataset(preds, ci)"
   ]
  },
  {
   "cell_type": "code",
   "execution_count": 15,
   "id": "fe9ab895-c44b-4be6-a4c8-7b9cc75a521c",
   "metadata": {},
   "outputs": [
    {
     "data": {
      "text/html": [
       "<div>\n",
       "<style scoped>\n",
       "    .dataframe tbody tr th:only-of-type {\n",
       "        vertical-align: middle;\n",
       "    }\n",
       "\n",
       "    .dataframe tbody tr th {\n",
       "        vertical-align: top;\n",
       "    }\n",
       "\n",
       "    .dataframe thead th {\n",
       "        text-align: right;\n",
       "    }\n",
       "</style>\n",
       "<table border=\"1\" class=\"dataframe\">\n",
       "  <thead>\n",
       "    <tr style=\"text-align: right;\">\n",
       "      <th></th>\n",
       "      <th>prediction</th>\n",
       "      <th>upper</th>\n",
       "      <th>lower</th>\n",
       "    </tr>\n",
       "  </thead>\n",
       "  <tbody>\n",
       "    <tr>\n",
       "      <th>0</th>\n",
       "      <td>22.635</td>\n",
       "      <td>27.3628</td>\n",
       "      <td>17.9072</td>\n",
       "    </tr>\n",
       "    <tr>\n",
       "      <th>1</th>\n",
       "      <td>30.516</td>\n",
       "      <td>35.2438</td>\n",
       "      <td>25.7882</td>\n",
       "    </tr>\n",
       "    <tr>\n",
       "      <th>2</th>\n",
       "      <td>16.014</td>\n",
       "      <td>20.7418</td>\n",
       "      <td>11.2862</td>\n",
       "    </tr>\n",
       "    <tr>\n",
       "      <th>3</th>\n",
       "      <td>22.718</td>\n",
       "      <td>27.4458</td>\n",
       "      <td>17.9902</td>\n",
       "    </tr>\n",
       "    <tr>\n",
       "      <th>4</th>\n",
       "      <td>16.335</td>\n",
       "      <td>21.0628</td>\n",
       "      <td>11.6072</td>\n",
       "    </tr>\n",
       "  </tbody>\n",
       "</table>\n",
       "</div>"
      ],
      "text/plain": [
       "   prediction    upper    lower\n",
       "0      22.635  27.3628  17.9072\n",
       "1      30.516  35.2438  25.7882\n",
       "2      16.014  20.7418  11.2862\n",
       "3      22.718  27.4458  17.9902\n",
       "4      16.335  21.0628  11.6072"
      ]
     },
     "execution_count": 15,
     "metadata": {},
     "output_type": "execute_result"
    }
   ],
   "source": [
    "df.head()"
   ]
  },
  {
   "cell_type": "code",
   "execution_count": 16,
   "id": "1c509643-13ed-4560-aaa0-67290632cc25",
   "metadata": {},
   "outputs": [
    {
     "data": {
      "image/png": "[encoded data removed]",
      "text/plain": [
       "<Figure size 864x648 with 1 Axes>"
      ]
     },
     "metadata": {
      "needs_background": "light"
     },
     "output_type": "display_data"
    }
   ],
   "source": [
    "generate_plot(y_test, preds, ci, positive=ci>0)"
   ]
  },
  {
   "cell_type": "markdown",
   "id": "68df017d-185d-4eae-a2da-67cd5989ded6",
   "metadata": {},
   "source": [
    "### Jackknife+"
   ]
  },
  {
   "cell_type": "code",
   "execution_count": 17,
   "id": "e240563c-e497-45dd-9ee3-6c743730d2d8",
   "metadata": {},
   "outputs": [],
   "source": [
    "kf = KFold(n_splits=len(y_train)-1, shuffle=True, random_state=42)\n",
    "res = []\n",
    "estimators = []\n",
    "for train_index, test_index in kf.split(X_train):\n",
    "    X_train_, X_test_ = X_train[train_index], X_train[test_index]\n",
    "    y_train_, y_test_ = y_train[train_index], y_train[test_index]\n",
    "    \n",
    "    rf.fit(X_train_, y_train_)\n",
    "    estimators.append(rf)\n",
    "    res.extend(list(y_test_ - rf.predict(X_test_)))"
   ]
  },
  {
   "cell_type": "code",
   "execution_count": 18,
   "id": "e0e45efd-0c4c-4b1a-935c-a9c5c6afec2d",
   "metadata": {},
   "outputs": [
    {
     "data": {
      "text/plain": [
       "(51, 454)"
      ]
     },
     "execution_count": 18,
     "metadata": {},
     "output_type": "execute_result"
    }
   ],
   "source": [
    "y_pred_multi = np.column_stack([e.predict(X_test) for e in estimators])\n",
    "y_pred_multi.shape"
   ]
  },
  {
   "cell_type": "code",
   "execution_count": 19,
   "id": "e9ec9a74-bffd-4ebd-a904-b9f0d7b4019d",
   "metadata": {},
   "outputs": [],
   "source": [
    "ci = np.quantile(res, 1 - alpha)\n",
    "top = []\n",
    "bottom = []\n",
    "\n",
    "for i in range(y_pred_multi.shape[0]):\n",
    "    if ci > 0:\n",
    "        top.append(np.quantile(y_pred_multi[i] + ci, 1 - alpha))\n",
    "        bottom.append(np.quantile(y_pred_multi[i] - ci, 1 - alpha))\n",
    "    else:\n",
    "        top.append(np.quantile(y_pred_multi[i] - ci, 1 - alpha))\n",
    "        bottom.append(np.quantile(y_pred_multi[i] + ci, 1 - alpha))     "
   ]
  },
  {
   "cell_type": "code",
   "execution_count": 20,
   "id": "68d441c3-c3b8-4277-a421-01f5325a54b5",
   "metadata": {},
   "outputs": [],
   "source": [
    "preds = np.median(y_pred_multi, axis=1)\n",
    "df = pd.DataFrame()\n",
    "df['pred'] = preds\n",
    "df['upper'] = top\n",
    "df['lower'] = bottom"
   ]
  },
  {
   "cell_type": "code",
   "execution_count": 21,
   "id": "604c68c9-904c-4da1-adc1-690592b5e7e2",
   "metadata": {},
   "outputs": [
    {
     "data": {
      "text/html": [
       "<div>\n",
       "<style scoped>\n",
       "    .dataframe tbody tr th:only-of-type {\n",
       "        vertical-align: middle;\n",
       "    }\n",
       "\n",
       "    .dataframe tbody tr th {\n",
       "        vertical-align: top;\n",
       "    }\n",
       "\n",
       "    .dataframe thead th {\n",
       "        text-align: right;\n",
       "    }\n",
       "</style>\n",
       "<table border=\"1\" class=\"dataframe\">\n",
       "  <thead>\n",
       "    <tr style=\"text-align: right;\">\n",
       "      <th></th>\n",
       "      <th>pred</th>\n",
       "      <th>upper</th>\n",
       "      <th>lower</th>\n",
       "    </tr>\n",
       "  </thead>\n",
       "  <tbody>\n",
       "    <tr>\n",
       "      <th>0</th>\n",
       "      <td>22.792</td>\n",
       "      <td>27.5198</td>\n",
       "      <td>18.0642</td>\n",
       "    </tr>\n",
       "    <tr>\n",
       "      <th>1</th>\n",
       "      <td>30.760</td>\n",
       "      <td>35.4878</td>\n",
       "      <td>26.0322</td>\n",
       "    </tr>\n",
       "    <tr>\n",
       "      <th>2</th>\n",
       "      <td>15.557</td>\n",
       "      <td>20.2848</td>\n",
       "      <td>10.8292</td>\n",
       "    </tr>\n",
       "    <tr>\n",
       "      <th>3</th>\n",
       "      <td>23.382</td>\n",
       "      <td>28.1098</td>\n",
       "      <td>18.6542</td>\n",
       "    </tr>\n",
       "    <tr>\n",
       "      <th>4</th>\n",
       "      <td>16.447</td>\n",
       "      <td>21.1748</td>\n",
       "      <td>11.7192</td>\n",
       "    </tr>\n",
       "  </tbody>\n",
       "</table>\n",
       "</div>"
      ],
      "text/plain": [
       "     pred    upper    lower\n",
       "0  22.792  27.5198  18.0642\n",
       "1  30.760  35.4878  26.0322\n",
       "2  15.557  20.2848  10.8292\n",
       "3  23.382  28.1098  18.6542\n",
       "4  16.447  21.1748  11.7192"
      ]
     },
     "execution_count": 21,
     "metadata": {},
     "output_type": "execute_result"
    }
   ],
   "source": [
    "df.head()"
   ]
  },
  {
   "cell_type": "code",
   "execution_count": 22,
   "id": "a19b9f43-977b-4b66-a421-b8c70e6d26b6",
   "metadata": {},
   "outputs": [
    {
     "data": {
      "image/png": "[encoded data removed]",
      "text/plain": [
       "<Figure size 864x648 with 1 Axes>"
      ]
     },
     "metadata": {
      "needs_background": "light"
     },
     "output_type": "display_data"
    }
   ],
   "source": [
    "generate_plot_plus(y_test, preds, bottom, top)"
   ]
  },
  {
   "cell_type": "markdown",
   "id": "e2593526-4f55-4c0d-9854-06ff93359e70",
   "metadata": {},
   "source": [
    "### CV+"
   ]
  },
  {
   "cell_type": "code",
   "execution_count": 23,
   "id": "389c7485-27b6-495b-9d92-72db61273eda",
   "metadata": {},
   "outputs": [],
   "source": [
    "kf = KFold(n_splits=5, shuffle=True, random_state=42)\n",
    "res = []\n",
    "estimators = []\n",
    "for train_index, test_index in kf.split(X_train):\n",
    "    X_train_, X_test_ = X_train[train_index], X_train[test_index]\n",
    "    y_train_, y_test_ = y_train[train_index], y_train[test_index]\n",
    "    \n",
    "    rf.fit(X_train_, y_train_)\n",
    "    estimators.append(rf)\n",
    "    res.extend(list(y_test_ - rf.predict(X_test_)))"
   ]
  },
  {
   "cell_type": "code",
   "execution_count": 24,
   "id": "22dd4a70-6450-4eb8-82be-5de68f2c38de",
   "metadata": {},
   "outputs": [
    {
     "data": {
      "text/plain": [
       "(51, 5)"
      ]
     },
     "execution_count": 24,
     "metadata": {},
     "output_type": "execute_result"
    }
   ],
   "source": [
    "y_pred_multi = np.column_stack([e.predict(X_test) for e in estimators])\n",
    "y_pred_multi.shape"
   ]
  },
  {
   "cell_type": "code",
   "execution_count": 25,
   "id": "0452e37c-6fdd-4c01-b24e-8b15cdcc3d44",
   "metadata": {},
   "outputs": [],
   "source": [
    "ci = np.quantile(res, 1 - alpha)\n",
    "top = []\n",
    "bottom = []\n",
    "\n",
    "for i in range(y_pred_multi.shape[0]):\n",
    "    if ci > 0:\n",
    "        top.append(np.quantile(y_pred_multi[i] + ci, 1 - alpha))\n",
    "        bottom.append(np.quantile(y_pred_multi[i] - ci, 1 - alpha))\n",
    "    else:\n",
    "        top.append(np.quantile(y_pred_multi[i] - ci, 1 - alpha))\n",
    "        bottom.append(np.quantile(y_pred_multi[i] + ci, 1 - alpha))  "
   ]
  },
  {
   "cell_type": "code",
   "execution_count": 26,
   "id": "68fc5de6-f9fd-4ce5-b7fc-3ace240795d7",
   "metadata": {},
   "outputs": [],
   "source": [
    "preds = np.median(y_pred_multi, axis=1)\n",
    "df = pd.DataFrame()\n",
    "df['pred'] = preds\n",
    "df['upper'] = top\n",
    "df['lower'] = bottom"
   ]
  },
  {
   "cell_type": "code",
   "execution_count": 27,
   "id": "98607937-3cc1-433e-9e6b-95fb9c78b5c2",
   "metadata": {},
   "outputs": [
    {
     "data": {
      "text/html": [
       "<div>\n",
       "<style scoped>\n",
       "    .dataframe tbody tr th:only-of-type {\n",
       "        vertical-align: middle;\n",
       "    }\n",
       "\n",
       "    .dataframe tbody tr th {\n",
       "        vertical-align: top;\n",
       "    }\n",
       "\n",
       "    .dataframe thead th {\n",
       "        text-align: right;\n",
       "    }\n",
       "</style>\n",
       "<table border=\"1\" class=\"dataframe\">\n",
       "  <thead>\n",
       "    <tr style=\"text-align: right;\">\n",
       "      <th></th>\n",
       "      <th>pred</th>\n",
       "      <th>upper</th>\n",
       "      <th>lower</th>\n",
       "    </tr>\n",
       "  </thead>\n",
       "  <tbody>\n",
       "    <tr>\n",
       "      <th>0</th>\n",
       "      <td>23.913</td>\n",
       "      <td>28.5879</td>\n",
       "      <td>19.2381</td>\n",
       "    </tr>\n",
       "    <tr>\n",
       "      <th>1</th>\n",
       "      <td>30.807</td>\n",
       "      <td>35.4819</td>\n",
       "      <td>26.1321</td>\n",
       "    </tr>\n",
       "    <tr>\n",
       "      <th>2</th>\n",
       "      <td>15.822</td>\n",
       "      <td>20.4969</td>\n",
       "      <td>11.1471</td>\n",
       "    </tr>\n",
       "    <tr>\n",
       "      <th>3</th>\n",
       "      <td>22.779</td>\n",
       "      <td>27.4539</td>\n",
       "      <td>18.1041</td>\n",
       "    </tr>\n",
       "    <tr>\n",
       "      <th>4</th>\n",
       "      <td>17.252</td>\n",
       "      <td>21.9269</td>\n",
       "      <td>12.5771</td>\n",
       "    </tr>\n",
       "  </tbody>\n",
       "</table>\n",
       "</div>"
      ],
      "text/plain": [
       "     pred    upper    lower\n",
       "0  23.913  28.5879  19.2381\n",
       "1  30.807  35.4819  26.1321\n",
       "2  15.822  20.4969  11.1471\n",
       "3  22.779  27.4539  18.1041\n",
       "4  17.252  21.9269  12.5771"
      ]
     },
     "execution_count": 27,
     "metadata": {},
     "output_type": "execute_result"
    }
   ],
   "source": [
    "df.head()"
   ]
  },
  {
   "cell_type": "code",
   "execution_count": 28,
   "id": "0aa18436-9c14-4c97-8128-42464d36c70e",
   "metadata": {},
   "outputs": [
    {
     "data": {
      "image/png": "[encoded data removed]",
      "text/plain": [
       "<Figure size 864x648 with 1 Axes>"
      ]
     },
     "metadata": {
      "needs_background": "light"
     },
     "output_type": "display_data"
    }
   ],
   "source": [
    "generate_plot_plus(y_test, preds, bottom, top)"
   ]
  },
  {
   "cell_type": "code",
   "execution_count": 29,
   "id": "dfd2698b-9077-4998-b4aa-e7942576c309",
   "metadata": {},
   "outputs": [],
   "source": [
    "alpha = [0.05]\n",
    "mapie = MapieRegressor(rf, method=\"naive\")\n",
    "mapie.fit(X_train, y_train)\n",
    "y_pred, y_pis = mapie.predict(X_test, alpha=alpha)"
   ]
  },
  {
   "cell_type": "code",
   "execution_count": 30,
   "id": "d135232b-910d-4f82-93bc-53281e061fbc",
   "metadata": {},
   "outputs": [],
   "source": [
    "alpha = [0.05]\n",
    "mapie = MapieRegressor(rf, method=\"plus\")\n",
    "mapie.fit(X_train, y_train)\n",
    "y_pred, y_pis = mapie.predict(X_test, alpha=alpha)"
   ]
  }
 ],
 "metadata": {
  "kernelspec": {
   "display_name": "Python 3 (ipykernel)",
   "language": "python",
   "name": "python3"
  },
  "language_info": {
   "codemirror_mode": {
    "name": "ipython",
    "version": 3
   },
   "file_extension": ".py",
   "mimetype": "text/x-python",
   "name": "python",
   "nbconvert_exporter": "python",
   "pygments_lexer": "ipython3",
   "version": "3.8.10"
  }
 },
 "nbformat": 4,
 "nbformat_minor": 5
}

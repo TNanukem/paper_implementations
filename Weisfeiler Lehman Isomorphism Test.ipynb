{
 "cells": [
  {
   "cell_type": "markdown",
   "metadata": {},
   "source": [
    "# The Weisfeiler-Lehman Isomorphism Test\n",
    "\n",
    "The Weisfeiler-Lehman Isomorphism Test, also called WL-Test, is a classical result from the graph theory. It is an heuristic to find out if two graphs are isomorphic. The problem of the graph isomorphism does not have a definitive solution in polinomial time yet, making some people say it may be NP-Complete. The WL-Test offers one alternative that allows us to estimate it.\n",
    "\n",
    "However, since this is an heuristic, the test is not perfect. Therefore, it fail in some simple cases and because of that new versions of this test were proposed.\n",
    "\n",
    "In this notebook we will explore a little about the theory of the test and implement it in its classical form and also some newer versions."
   ]
  },
  {
   "cell_type": "code",
   "execution_count": 1,
   "metadata": {
    "id": "Gvaav4nXDvdl"
   },
   "outputs": [],
   "source": [
    "import copy\n",
    "import pprint\n",
    "import itertools\n",
    "import hashlib\n",
    "import networkx as nx\n",
    "\n",
    "from collections import Counter"
   ]
  },
  {
   "cell_type": "code",
   "execution_count": 2,
   "metadata": {},
   "outputs": [],
   "source": [
    "def base_WL(G_, k, verbose, n_set, initial_colors_func, find_neighbors_func):    \n",
    "    if verbose:\n",
    "        print('-----------------------------------')\n",
    "        print('Starting the execution for the graph')\n",
    "    G, n = n_set(G_)\n",
    "    colors = initial_colors_func(n)\n",
    "\n",
    "    old_colors = copy.deepcopy(colors)\n",
    "    \n",
    "    if verbose:\n",
    "        print(f'Initial Color hashes: \\n {colors} \\n')\n",
    "\n",
    "    for i in range(len(n)):\n",
    "        for node in n:\n",
    "            neigh_colors = \"\".join([colors[i][0] for i in find_neighbors_func(G, n, node)])\n",
    "            \n",
    "            colors[node].extend([neigh_colors])\n",
    "            colors[node].sort()\n",
    "\n",
    "        # Update with the hash\n",
    "        if verbose:\n",
    "            print(f'Colors before hashes at iteration {i}: {colors} \\n')\n",
    "        colors = {i: [hashlib.sha224(\"\".join(colors[i]).encode('utf-8')).hexdigest()] for i in colors}\n",
    "                \n",
    "        if verbose:\n",
    "            print(f'Colors hashes at iteration {i}: \\n {colors} \\n')\n",
    "            print(f'Histogram: \\n {sorted(Counter([item for sublist in colors.values() for item in sublist]).items())} \\n')\n",
    "        \n",
    "        if list(Counter([item for sublist in colors.values() for item in sublist]).values()) == list(Counter([item for sublist in old_colors.values() for item in sublist]).values()) and i != 0:\n",
    "            if verbose:\n",
    "                print(f'Converged at iteration {i}!')\n",
    "            break\n",
    "        \n",
    "        old_colors = copy.deepcopy(colors)\n",
    "\n",
    "    canonical_form = sorted(Counter([item for sublist in colors.values() for item in sublist]).items())\n",
    "    if verbose:\n",
    "        print(f'Canonical Form Found: \\n {canonical_form} \\n')\n",
    "\n",
    "    return canonical_form"
   ]
  },
  {
   "cell_type": "code",
   "execution_count": 3,
   "metadata": {
    "id": "xSj97eqCD2qA"
   },
   "outputs": [],
   "source": [
    "def WL(G, k=2, verbose=False):\n",
    "    def n_set(G):\n",
    "        G = nx.convert_node_labels_to_integers(G)\n",
    "        return G, list(G.nodes())\n",
    "    \n",
    "    def set_initial_colors(n):\n",
    "        return {i: [hashlib.sha224(\"1\".encode('utf-8')).hexdigest()] for i in n}\n",
    "    \n",
    "    def find_neighbors(G, n, node):\n",
    "        return G.neighbors(node)\n",
    "    \n",
    "    return base_WL(G, k, verbose, n_set, set_initial_colors, find_neighbors)"
   ]
  },
  {
   "cell_type": "code",
   "execution_count": 29,
   "metadata": {
    "id": "9VEc1kyapDao"
   },
   "outputs": [],
   "source": [
    "def kWL(G, k, verbose=False):\n",
    "    def n_set(G):\n",
    "        G = nx.convert_node_labels_to_integers(G)\n",
    "        V = list(G.nodes())\n",
    "        V_k = [comb for comb in itertools.combinations(V, k)]\n",
    "        return G, V_k\n",
    "\n",
    "    def set_initial_colors(n):\n",
    "        return {i: [hashlib.sha224(str(i).encode('utf-8')).hexdigest()] for i in n}\n",
    "\n",
    "    def find_neighbors(G, V_k, node):\n",
    "        print([n for n in V_k if len(set(n) - set(V_k[V_k.index(node)])) == 1])\n",
    "        return [n for n in V_k if len(set(n) - set(V_k[V_k.index(node)])) == 1]\n",
    "\n",
    "    return base_WL(G, k, verbose, n_set, set_initial_colors, find_neighbors)"
   ]
  },
  {
   "cell_type": "code",
   "execution_count": 50,
   "metadata": {
    "id": "UytqtTezslYV"
   },
   "outputs": [],
   "source": [
    "def fkWL(G, k, verbose=False):\n",
    "    def n_set(G):\n",
    "        G = nx.convert_node_labels_to_integers(G)\n",
    "        V = list(G.nodes())\n",
    "        V_k = [comb for comb in itertools.product(V, repeat=k)]\n",
    "        return G, V_k\n",
    "\n",
    "    def set_initial_colors(n):\n",
    "        return {i: [hashlib.sha224(str(i).encode('utf-8')).hexdigest()] for i in n}\n",
    "\n",
    "    def find_neighbors(G, V_k, node):\n",
    "        V = list(G.nodes())\n",
    "        vals = []\n",
    "        for i in range(k):\n",
    "            w = []\n",
    "            nodes_to_add = [u for u in V if u != V_k[V_k.index(node)][i]]\n",
    "            for u in nodes_to_add:\n",
    "                aux = list(V_k[V_k.index(node)])\n",
    "                aux[i] = u\n",
    "                w.append(tuple(aux))\n",
    "            vals.extend(w)\n",
    "        return vals\n",
    "\n",
    "    return base_WL(G, k, verbose, n_set, set_initial_colors, find_neighbors)"
   ]
  },
  {
   "cell_type": "code",
   "execution_count": 51,
   "metadata": {
    "id": "-pF5hq6i_y_J"
   },
   "outputs": [],
   "source": [
    "def compare_graphs(G1, G2, method='WL', k=2, verbose=False):\n",
    "    methods = {\n",
    "        'WL': WL,\n",
    "        'kWL': kWL,\n",
    "        'fkWL': fkWL\n",
    "    }\n",
    "\n",
    "    # If two graphs have different numbers of nodes they cannot be isomorphic\n",
    "    if len(G1.nodes()) != len(G2.nodes()):\n",
    "        if verbose:\n",
    "            print('Non-Isomorphic by different number of nodes!')\n",
    "        return False\n",
    "    \n",
    "    c1 = methods[method](G1, k, verbose)\n",
    "    c2 = methods[method](G2, k, verbose)\n",
    "\n",
    "    return c1 == c2"
   ]
  },
  {
   "cell_type": "markdown",
   "metadata": {},
   "source": [
    "## Testing the Implementation"
   ]
  },
  {
   "cell_type": "code",
   "execution_count": 145,
   "metadata": {},
   "outputs": [
    {
     "name": "stdout",
     "output_type": "stream",
     "text": [
      "-----------------------------------\n",
      "Starting the execution for the graph\n",
      "Initial Color hashes: \n",
      " {(0, 1): ['dd1ff31c7034df9b181dec11a0ae633bf9bee80662d76e1b5f655c2e'], (0, 2): ['af78931ab7820443f0986de9ef1f276363014d89b9dd587f16b5f3e5'], (1, 2): ['efc8967f524c37abb64097ebc4ca64c6c9a47e4ae3f6bd4bda7a52a3']} \n",
      "\n",
      "Colors before hashes at iteration 0: {(0, 1): ['af78931ab7820443f0986de9ef1f276363014d89b9dd587f16b5f3e5efc8967f524c37abb64097ebc4ca64c6c9a47e4ae3f6bd4bda7a52a3', 'dd1ff31c7034df9b181dec11a0ae633bf9bee80662d76e1b5f655c2e'], (0, 2): ['af78931ab7820443f0986de9ef1f276363014d89b9dd587f16b5f3e5', 'af78931ab7820443f0986de9ef1f276363014d89b9dd587f16b5f3e5efc8967f524c37abb64097ebc4ca64c6c9a47e4ae3f6bd4bda7a52a3efc8967f524c37abb64097ebc4ca64c6c9a47e4ae3f6bd4bda7a52a3'], (1, 2): ['af78931ab7820443f0986de9ef1f276363014d89b9dd587f16b5f3e5efc8967f524c37abb64097ebc4ca64c6c9a47e4ae3f6bd4bda7a52a3af78931ab7820443f0986de9ef1f276363014d89b9dd587f16b5f3e5', 'efc8967f524c37abb64097ebc4ca64c6c9a47e4ae3f6bd4bda7a52a3']} \n",
      "\n",
      "Colors hashes at iteration 0: \n",
      " {(0, 1): ['946dbe927789cffad1e35be6686a4bc3fa664ff51ad0ed7190480dcf'], (0, 2): ['c229b1e4d137cac51864bc1340783d63f573156b9fa91a2ea577baee'], (1, 2): ['f5abc44f56ff8f111a99c562174f02c5c0e105dfdd05cb228681e613']} \n",
      "\n",
      "Histogram: \n",
      " [('946dbe927789cffad1e35be6686a4bc3fa664ff51ad0ed7190480dcf', 1), ('c229b1e4d137cac51864bc1340783d63f573156b9fa91a2ea577baee', 1), ('f5abc44f56ff8f111a99c562174f02c5c0e105dfdd05cb228681e613', 1)] \n",
      "\n",
      "Colors before hashes at iteration 1: {(0, 1): ['946dbe927789cffad1e35be6686a4bc3fa664ff51ad0ed7190480dcf', 'c229b1e4d137cac51864bc1340783d63f573156b9fa91a2ea577baeef5abc44f56ff8f111a99c562174f02c5c0e105dfdd05cb228681e613'], (0, 2): ['946dbe927789cffad1e35be6686a4bc3fa664ff51ad0ed7190480dcff5abc44f56ff8f111a99c562174f02c5c0e105dfdd05cb228681e613', 'c229b1e4d137cac51864bc1340783d63f573156b9fa91a2ea577baee'], (1, 2): ['946dbe927789cffad1e35be6686a4bc3fa664ff51ad0ed7190480dcf946dbe927789cffad1e35be6686a4bc3fa664ff51ad0ed7190480dcff5abc44f56ff8f111a99c562174f02c5c0e105dfdd05cb228681e613', 'f5abc44f56ff8f111a99c562174f02c5c0e105dfdd05cb228681e613']} \n",
      "\n",
      "Colors hashes at iteration 1: \n",
      " {(0, 1): ['0be3e678a6d1445e96b6584de1f531a9fedeb8d39f1ba8d2616dbe38'], (0, 2): ['40d5304d6ff744d2184aaeb108b5bfa3aad94d7afac23b219c81c8fd'], (1, 2): ['43a464a76a0950ea1caec50ad27a0539e59b4d24009572d1db09cce7']} \n",
      "\n",
      "Histogram: \n",
      " [('0be3e678a6d1445e96b6584de1f531a9fedeb8d39f1ba8d2616dbe38', 1), ('40d5304d6ff744d2184aaeb108b5bfa3aad94d7afac23b219c81c8fd', 1), ('43a464a76a0950ea1caec50ad27a0539e59b4d24009572d1db09cce7', 1)] \n",
      "\n",
      "Converged at iteration 1!\n",
      "Canonical Form Found: \n",
      " [('0be3e678a6d1445e96b6584de1f531a9fedeb8d39f1ba8d2616dbe38', 1), ('40d5304d6ff744d2184aaeb108b5bfa3aad94d7afac23b219c81c8fd', 1), ('43a464a76a0950ea1caec50ad27a0539e59b4d24009572d1db09cce7', 1)] \n",
      "\n",
      "-----------------------------------\n",
      "Starting the execution for the graph\n",
      "Initial Color hashes: \n",
      " {(0, 1): ['dd1ff31c7034df9b181dec11a0ae633bf9bee80662d76e1b5f655c2e'], (0, 2): ['af78931ab7820443f0986de9ef1f276363014d89b9dd587f16b5f3e5'], (1, 2): ['efc8967f524c37abb64097ebc4ca64c6c9a47e4ae3f6bd4bda7a52a3']} \n",
      "\n",
      "Colors before hashes at iteration 0: {(0, 1): ['af78931ab7820443f0986de9ef1f276363014d89b9dd587f16b5f3e5efc8967f524c37abb64097ebc4ca64c6c9a47e4ae3f6bd4bda7a52a3', 'dd1ff31c7034df9b181dec11a0ae633bf9bee80662d76e1b5f655c2e'], (0, 2): ['af78931ab7820443f0986de9ef1f276363014d89b9dd587f16b5f3e5', 'af78931ab7820443f0986de9ef1f276363014d89b9dd587f16b5f3e5efc8967f524c37abb64097ebc4ca64c6c9a47e4ae3f6bd4bda7a52a3efc8967f524c37abb64097ebc4ca64c6c9a47e4ae3f6bd4bda7a52a3'], (1, 2): ['af78931ab7820443f0986de9ef1f276363014d89b9dd587f16b5f3e5efc8967f524c37abb64097ebc4ca64c6c9a47e4ae3f6bd4bda7a52a3af78931ab7820443f0986de9ef1f276363014d89b9dd587f16b5f3e5', 'efc8967f524c37abb64097ebc4ca64c6c9a47e4ae3f6bd4bda7a52a3']} \n",
      "\n",
      "Colors hashes at iteration 0: \n",
      " {(0, 1): ['946dbe927789cffad1e35be6686a4bc3fa664ff51ad0ed7190480dcf'], (0, 2): ['c229b1e4d137cac51864bc1340783d63f573156b9fa91a2ea577baee'], (1, 2): ['f5abc44f56ff8f111a99c562174f02c5c0e105dfdd05cb228681e613']} \n",
      "\n",
      "Histogram: \n",
      " [('946dbe927789cffad1e35be6686a4bc3fa664ff51ad0ed7190480dcf', 1), ('c229b1e4d137cac51864bc1340783d63f573156b9fa91a2ea577baee', 1), ('f5abc44f56ff8f111a99c562174f02c5c0e105dfdd05cb228681e613', 1)] \n",
      "\n",
      "Colors before hashes at iteration 1: {(0, 1): ['946dbe927789cffad1e35be6686a4bc3fa664ff51ad0ed7190480dcf', 'c229b1e4d137cac51864bc1340783d63f573156b9fa91a2ea577baeef5abc44f56ff8f111a99c562174f02c5c0e105dfdd05cb228681e613'], (0, 2): ['946dbe927789cffad1e35be6686a4bc3fa664ff51ad0ed7190480dcff5abc44f56ff8f111a99c562174f02c5c0e105dfdd05cb228681e613', 'c229b1e4d137cac51864bc1340783d63f573156b9fa91a2ea577baee'], (1, 2): ['946dbe927789cffad1e35be6686a4bc3fa664ff51ad0ed7190480dcf946dbe927789cffad1e35be6686a4bc3fa664ff51ad0ed7190480dcff5abc44f56ff8f111a99c562174f02c5c0e105dfdd05cb228681e613', 'f5abc44f56ff8f111a99c562174f02c5c0e105dfdd05cb228681e613']} \n",
      "\n",
      "Colors hashes at iteration 1: \n",
      " {(0, 1): ['0be3e678a6d1445e96b6584de1f531a9fedeb8d39f1ba8d2616dbe38'], (0, 2): ['40d5304d6ff744d2184aaeb108b5bfa3aad94d7afac23b219c81c8fd'], (1, 2): ['43a464a76a0950ea1caec50ad27a0539e59b4d24009572d1db09cce7']} \n",
      "\n",
      "Histogram: \n",
      " [('0be3e678a6d1445e96b6584de1f531a9fedeb8d39f1ba8d2616dbe38', 1), ('40d5304d6ff744d2184aaeb108b5bfa3aad94d7afac23b219c81c8fd', 1), ('43a464a76a0950ea1caec50ad27a0539e59b4d24009572d1db09cce7', 1)] \n",
      "\n",
      "Converged at iteration 1!\n",
      "Canonical Form Found: \n",
      " [('0be3e678a6d1445e96b6584de1f531a9fedeb8d39f1ba8d2616dbe38', 1), ('40d5304d6ff744d2184aaeb108b5bfa3aad94d7afac23b219c81c8fd', 1), ('43a464a76a0950ea1caec50ad27a0539e59b4d24009572d1db09cce7', 1)] \n",
      "\n"
     ]
    },
    {
     "data": {
      "text/plain": [
       "True"
      ]
     },
     "execution_count": 145,
     "metadata": {},
     "output_type": "execute_result"
    }
   ],
   "source": [
    "G = nx.Graph()\n",
    "G_edge_list = [(1, 2), (2, 3), (3, 1)]\n",
    "G.add_edges_from(G_edge_list)\n",
    "\n",
    "compare_graphs(G, G, k=2, verbose=True, method='kWL')"
   ]
  },
  {
   "cell_type": "markdown",
   "metadata": {},
   "source": [
    "## Evaluation"
   ]
  },
  {
   "cell_type": "markdown",
   "metadata": {},
   "source": [
    "When evaluating, we must know that our implementation works besides the node naming. Also, we must test to some non-isomorphic graphs that cannot be distinguished by the WL test."
   ]
  },
  {
   "attachments": {
    "5af3da87-a5f4-4d44-8293-e5dfd9dd3ad3.png": {
     "image/png": "[encoded data removed]"
    },
    "69bf6397-f73e-437d-a78b-566b639deda7.png": {
     "image/png": "[encoded data removed]"
    },
    "82fdb576-e925-4a47-90d1-d4ed9206af5f.png": {
     "image/png": "[encoded data removed]"
    },
    "8329f627-9d3f-4ec8-8d49-cc8858b98f2b.png": {
     "image/png": "[encoded data removed]"
    }
   },
   "cell_type": "markdown",
   "metadata": {},
   "source": [
    "Example of Two Non-Isomorphic Graphs that fail the WL-Test <br>\n",
    "![image.png](attachment:69bf6397-f73e-437d-a78b-566b639deda7.png)\n",
    "![image.png](attachment:5af3da87-a5f4-4d44-8293-e5dfd9dd3ad3.png) <br>\n",
    "\n",
    "Another Example of Two Non-Isomorphic Graphs that fail the WL-Test <br>\n",
    "![image.png](attachment:8329f627-9d3f-4ec8-8d49-cc8858b98f2b.png)\n",
    "![image.png](attachment:82fdb576-e925-4a47-90d1-d4ed9206af5f.png)"
   ]
  },
  {
   "cell_type": "code",
   "execution_count": 54,
   "metadata": {
    "id": "pcueX9I4s3_n"
   },
   "outputs": [],
   "source": [
    "def evaluation(method, k):\n",
    "    print(f'Method: {method}')\n",
    "    \n",
    "    # Generates two non-isomorphic graphs\n",
    "    G = nx.Graph()\n",
    "    G_edge_list = [(1, 2), (2, 3), (1, 3), (4, 5), (5, 6), (4, 6)]\n",
    "    G.add_edges_from(G_edge_list)\n",
    "\n",
    "    H = nx.Graph()\n",
    "    H_edge_list = [(1, 2), (2, 3), (3, 4), (4, 5), (5, 6), (6, 1)]\n",
    "    H.add_edges_from(H_edge_list)\n",
    "    \n",
    "    G_ = nx.Graph()\n",
    "    G_edge_list = [(1, 2), (2, 3), (3, 4), (4, 5), (5, 6), (6, 1), (3, 7), (7, 8), (8, 9), (9, 10), (10, 4)]\n",
    "    G_.add_edges_from(G_edge_list)\n",
    "\n",
    "    H_ = nx.Graph()\n",
    "    H_edge_list = [(1, 2), (2, 3), (3, 4), (4, 5), (5, 1), (3, 6), (6, 7), (7, 8), (8, 9), (9, 10), (10, 6)]\n",
    "    H_.add_edges_from(H_edge_list)\n",
    "    \n",
    "    \n",
    "    G1 = nx.davis_southern_women_graph()\n",
    "    G2 = nx.karate_club_graph()\n",
    "    G3 = nx.les_miserables_graph()\n",
    "    G4 = nx.convert_node_labels_to_integers(G3)\n",
    "\n",
    "    G5 = nx.convert_node_labels_to_integers(G3)\n",
    "    G5.remove_edge(0, 1)\n",
    "\n",
    "    print(f'Expected: False, got: {compare_graphs(G, H, method, k)}')\n",
    "    print(f'Expected: False, got: {compare_graphs(G_, H_, method, k)}')\n",
    "    print(f'Expected: True, got: {compare_graphs(G1, G1, method, k)}')\n",
    "    print(f'Expected: True, got: {compare_graphs(G2, G2, method, k)}')\n",
    "    print(f'Expected: True, got: {compare_graphs(G3, G3, method, k)}')\n",
    "    print(f'Expected: True, got: {compare_graphs(G4, G4, method, k)}')\n",
    "    print(f'Expected: True, got: {compare_graphs(G5, G5, method, k)}')\n",
    "    \n",
    "    print(f'Expected: True, got: {compare_graphs(G3, G4, method, k)}')\n",
    "    print(f'Expected: False, got: {compare_graphs(G3, G5, method, k)}')\n",
    "    print(f'Expected: False, got: {compare_graphs(G4, G5, method, k)}')"
   ]
  },
  {
   "cell_type": "code",
   "execution_count": 8,
   "metadata": {},
   "outputs": [
    {
     "name": "stdout",
     "output_type": "stream",
     "text": [
      "Expected: False, got: True\n",
      "Expected: True, got: True\n",
      "Expected: True, got: True\n",
      "Expected: True, got: True\n",
      "Expected: True, got: True\n",
      "Expected: True, got: True\n",
      "Expected: True, got: True\n",
      "Expected: False, got: False\n",
      "Expected: False, got: False\n"
     ]
    }
   ],
   "source": [
    "evaluation('WL', k=3)"
   ]
  },
  {
   "cell_type": "code",
   "execution_count": 9,
   "metadata": {},
   "outputs": [
    {
     "name": "stdout",
     "output_type": "stream",
     "text": [
      "Expected: False, got: True\n",
      "Expected: True, got: True\n",
      "Expected: True, got: True\n",
      "Expected: True, got: True\n",
      "Expected: True, got: True\n",
      "Expected: True, got: True\n",
      "Expected: True, got: True\n",
      "Expected: False, got: False\n",
      "Expected: False, got: False\n"
     ]
    }
   ],
   "source": [
    "evaluation('kWL', k=3)"
   ]
  },
  {
   "cell_type": "code",
   "execution_count": 53,
   "metadata": {},
   "outputs": [
    {
     "ename": "NameError",
     "evalue": "name 'evaluation' is not defined",
     "output_type": "error",
     "traceback": [
      "\u001b[1;31m---------------------------------------------------------------------------\u001b[0m",
      "\u001b[1;31mNameError\u001b[0m                                 Traceback (most recent call last)",
      "Input \u001b[1;32mIn [53]\u001b[0m, in \u001b[0;36m<cell line: 1>\u001b[1;34m()\u001b[0m\n\u001b[1;32m----> 1\u001b[0m \u001b[43mevaluation\u001b[49m(\u001b[38;5;124m'\u001b[39m\u001b[38;5;124mfkWL\u001b[39m\u001b[38;5;124m'\u001b[39m, k\u001b[38;5;241m=\u001b[39m\u001b[38;5;241m3\u001b[39m)\n",
      "\u001b[1;31mNameError\u001b[0m: name 'evaluation' is not defined"
     ]
    }
   ],
   "source": [
    "evaluation('fkWL', k=3)"
   ]
  },
  {
   "cell_type": "code",
   "execution_count": null,
   "metadata": {},
   "outputs": [],
   "source": []
  }
 ],
 "metadata": {
  "colab": {
   "collapsed_sections": [],
   "name": "Weisfeiler-Lehman isomorphism test.ipynb",
   "provenance": []
  },
  "kernelspec": {
   "display_name": "Python 3 (ipykernel)",
   "language": "python",
   "name": "python3"
  },
  "language_info": {
   "codemirror_mode": {
    "name": "ipython",
    "version": 3
   },
   "file_extension": ".py",
   "mimetype": "text/x-python",
   "name": "python",
   "nbconvert_exporter": "python",
   "pygments_lexer": "ipython3",
   "version": "3.9.12"
  }
 },
 "nbformat": 4,
 "nbformat_minor": 4
}
